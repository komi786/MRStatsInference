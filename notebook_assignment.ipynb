{
 "cells": [
  {
   "cell_type": "markdown",
   "metadata": {},
   "source": [
    "# Instructions\n",
    "\n",
    "The assignment consists of three tasks:\n",
    "\n",
    "- Run the T-test for the means of two independent samples underlying the statement \"IRE binding activity was significantly reduced in failing hearts\" (originally published by Haddad et al. in https://doi.org/10.1093/eurheartj/ehw333) using the following example data.\n",
    "\n",
    "| non-failing heart (NF) | failing heart (F) |\n",
    "| ---------------------- | ----------------- |\n",
    "| 95 | 50 |\n",
    "| 103 | 35 |\n",
    "| 99 | 21 | \n",
    "| &nbsp; | 15 | \n",
    "| &nbsp; | 7 | \n",
    "| &nbsp; | 40 |\n",
    "\n",
    "- Describe the statistical hypothesis test in machine readable form following the [statistical methods ontology concept for \"two sample t-test with unequal variance\"](https://www.ebi.ac.uk/ols/ontologies/stato/terms?iri=http%3A%2F%2Fpurl.obolibrary.org%2Fobo%2FSTATO_0000304) using Semantic Web technologies, namely the Resource Description Framework (RDF)\n",
    "- Process the resulting machine readable description using Semantic Web technologies, namely the SPARQL Protocol and RDF Query Language.\n",
    "\n",
    "Please return the assignment with all outputs visible (i.e., do not clear the outputs).\n",
    "\n",
    "Good luck!"
   ]
  },
  {
   "cell_type": "code",
   "execution_count": 132,
   "metadata": {},
   "outputs": [
    {
     "name": "stdout",
     "output_type": "stream",
     "text": [
      "Requirement already satisfied: rdflib in ./anaconda3/lib/python3.6/site-packages (4.2.2)\r\n",
      "Requirement already satisfied: pandas in ./anaconda3/lib/python3.6/site-packages (0.23.0)\r\n",
      "Requirement already satisfied: scipy in ./anaconda3/lib/python3.6/site-packages (1.1.0)\r\n",
      "Requirement already satisfied: numpy in ./anaconda3/lib/python3.6/site-packages (1.14.3)\r\n",
      "Requirement already satisfied: pyparsing in ./anaconda3/lib/python3.6/site-packages (from rdflib) (2.2.0)\r\n",
      "Requirement already satisfied: isodate in ./anaconda3/lib/python3.6/site-packages (from rdflib) (0.6.0)\r\n",
      "Requirement already satisfied: python-dateutil>=2.5.0 in ./anaconda3/lib/python3.6/site-packages (from pandas) (2.7.3)\r\n",
      "Requirement already satisfied: pytz>=2011k in ./anaconda3/lib/python3.6/site-packages (from pandas) (2018.4)\r\n",
      "Requirement already satisfied: six in ./anaconda3/lib/python3.6/site-packages (from isodate->rdflib) (1.11.0)\r\n"
     ]
    }
   ],
   "source": [
    "!pip install rdflib pandas scipy numpy"
   ]
  },
  {
   "cell_type": "code",
   "execution_count": 133,
   "metadata": {},
   "outputs": [],
   "source": [
    "# Import all required libraries (some are missing)\n",
    "import numpy as np\n",
    "from scipy import stats\n",
    "from rdflib import Graph, URIRef\n",
    "from rdflib.namespace import RDF\n",
    "from rdflib import BNode, Literal\n",
    "from rdflib.namespace import XSD"
   ]
  },
  {
   "cell_type": "code",
   "execution_count": 134,
   "metadata": {},
   "outputs": [
    {
     "name": "stdout",
     "output_type": "stream",
     "text": [
      "-------\n",
      "\n",
      " Welch's t-test= 10.0543 \n",
      " p-value = 0.0001 \n",
      " Welch-Satterthwaite Degrees of Freedom= 5.8693\n",
      "-------\n",
      "Reject the null hypothesis that the means are equal...\n"
     ]
    }
   ],
   "source": [
    "# Run the T-test for the means of two independent samples using the example data\n",
    "\n",
    "# Independent T-test function\n",
    "def independent_ttest(data1, data2, alpha):\n",
    "\t# calculate means\n",
    "\ts1mean, s2mean = np.mean(data1), np.mean(data2)\n",
    "\t# calculate standard errors\n",
    "\tSe1, Se2 = stats.sem(data1), stats.sem(data2)\n",
    "\t# standard error on the difference between the samples\n",
    "# \tprint(len(data1))\n",
    "\tsed = np.sqrt((Se1**2.0/len(data1)) + (Se2**2.0)/len(data2))\n",
    "\t#print(sed)\n",
    "\t# calculate the t statistic\n",
    "\tt_stat = (s1mean - s2mean) / sed\n",
    "\t# degrees of freedom\n",
    "\tdf = len(data1) + len(data2) - 2\n",
    "\t# calculate the critical value\n",
    "\tcv = stats.t.ppf(1.0 - alpha, df)\n",
    "\t# calculate the p-value\n",
    "\tp = (1.0 - stats.t.cdf(abs(t_stat), df)) * 2.0\n",
    "\t# return everything\n",
    "\treturn t_stat, df, cv, p\n",
    "\n",
    "\n",
    "def Welch_t_test(x,y):\n",
    "\tdof = (np.var(x)/len(x) + np.var(y)/len(y))**2 / ((np.var(x)/len(x))**2 / (len(x)-1) + (np.var(y)/len(y))**2 / (len(y)-1))\n",
    "# \tprint(f\"Welch-Satterthwaite Degrees of Freedom= {dof:.4f}\")\n",
    "\tt, p = stats.ttest_ind(x, y, equal_var = False)\n",
    "\tprint(\"\\n\",f\"Welch's t-test= {t:.4f}\", \"\\n\",f\"p-value = {p:.4f}\", \"\\n\",f\"Welch-Satterthwaite Degrees of Freedom= {dof:.4f}\")\n",
    "\treturn p;\n",
    "        \n",
    "\n",
    "\n",
    "\n",
    "#Sample Size\n",
    "sample1=[95,103,99]\n",
    "sample2=[50,35,21,15,7,40]\n",
    "alpha=0.05\n",
    "print(\"-------\")\n",
    "p=Welch_t_test(sample1, sample2)\n",
    "print(\"-------\")\n",
    "\n",
    "\n",
    "\n",
    "\n",
    "#calculate Student T-test\n",
    "# t_stat, df, cv, p =independent_ttest(sample1,sample2,alpha)\n",
    "# print(t_stat)\n",
    "#print('T_stat=%.3f, degree of freedom=%d, citical value=%.3f, p_value=%.3f' % (t_stat, df, cv, p))\n",
    "# print(\"T_stat={} , degree of freedom={} , citical value= {}, p_value= {}\".format(t_stat, df, cv, p ))\n",
    "\n",
    "if p > alpha:\n",
    "\tprint('Accept null hypothesis that the means are equal...')\n",
    "else:\n",
    "\tprint('Reject the null hypothesis that the means are equal...')\n",
    "\n",
    "# print(\"IRE binding activity was significantly reduced in failing hearts-----Means are not equal for two independent sample Sample\")\n",
    "\n",
    "\n",
    "\n"
   ]
  },
  {
   "cell_type": "code",
   "execution_count": 136,
   "metadata": {},
   "outputs": [
    {
     "name": "stdout",
     "output_type": "stream",
     "text": [
      "@prefix ex: <http://example.org/> .\n",
      "@prefix obo: <http://purl.obolibrary.org/obo/> .\n",
      "@prefix rdf: <http://www.w3.org/1999/02/22-rdf-syntax-ns#> .\n",
      "@prefix rdfs: <http://www.w3.org/2000/01/rdf-schema#> .\n",
      "@prefix xml: <http://www.w3.org/XML/1998/namespace> .\n",
      "@prefix xsd: <http://www.w3.org/2001/XMLSchema#> .\n",
      "\n",
      "[] a obo:STATO_0000304 ;\n",
      "    obo:OBI_0000293 [ a obo:GO_0030350 ] ;\n",
      "    obo:OBI_0000299 [ a obo:OBI_0000175 ;\n",
      "            obo:OBI_0001938 [ a obo:OBI_0001931 ;\n",
      "                    obo:OBI_0001937 5.318725e-05 ] ] .\n",
      "\n",
      "\n"
     ]
    }
   ],
   "source": [
    "# Describe the statistical hypothesis test in machine readable form\n",
    "\n",
    "# First, we initialize an RDF Graph and bind some prefixes\n",
    "# n=namespace(\"http://www.w3.org/2001/XMLSchema#\")\n",
    "g = Graph()\n",
    "g.bind('obo', 'http://purl.obolibrary.org/obo/')\n",
    "g.bind('ex', 'http://example.org/')\n",
    "\n",
    "# Next, we define some needed vocabulary\n",
    "obo = dict()\n",
    "obo['two sample t-test with unequal variance'] = URIRef('http://purl.obolibrary.org/obo/STATO_0000304')\n",
    "obo['has specified input'] = URIRef('http://purl.obolibrary.org/obo/OBI_0000293')\n",
    "obo['has specified output'] = URIRef('http://purl.obolibrary.org/obo/OBI_0000299')\n",
    "obo['is_specified_output_of']=URIRef('http://purl.obolibrary.org/obo/OBI_0000312')\n",
    "obo['inferential statistical data analysis']=URIRef('http://purl.obolibrary.org/obo/OBCS_0000121')\n",
    "obo['p-value'] = URIRef('http://purl.obolibrary.org/obo/OBI_0000175')\n",
    "obo['has value specification'] = URIRef('http://purl.obolibrary.org/obo/OBI_0001938')\n",
    "obo['scalar value specification'] = URIRef('http://purl.obolibrary.org/obo/OBI_0001931')\n",
    "obo['has specified numeric value'] = URIRef('http://purl.obolibrary.org/obo/OBI_0001937')\n",
    "obo['iron-responsive element binding'] = URIRef('http://purl.obolibrary.org/obo/GO_0030350')\n",
    "# print('Data=',obo)\n",
    "\n",
    "\n",
    "\n",
    "\n",
    "# Now, populate the graph with statements\n",
    "# As an example, the following statement types the resource (blank node) 'n1' as 'two sample t-test with unequal variance'\n",
    "n1 = BNode()\n",
    "g.add((n1, RDF.type, obo['two sample t-test with unequal variance']))\n",
    "\n",
    "# Now, state that the t-test has iron-responsive element binding as a specified input (one statement to complete)\n",
    "n2 = BNode()\n",
    "\n",
    "g.add((n1, obo['has specified input'], n2))\n",
    "g.add((n2,RDF.type,obo['iron-responsive element binding']))\n",
    "\n",
    "n3 = BNode()\n",
    "# Next, state that the t-test has the p-value computed above as a specified output\n",
    "g.add((n1,obo['has specified output'],n3))\n",
    "\n",
    "\n",
    "g.add((n3,RDF.type,obo['p-value']))\n",
    "n4 = BNode()\n",
    "g.add((n3,obo['has value specification'],n4))\n",
    "# The literal value of the p-value is represented as a scalar value specification with a specified numeric value \n",
    "\n",
    "g.add((n4,RDF.type,obo['scalar value specification']))\n",
    "\n",
    "# g.add(...)\n",
    "# Type the literal as double\n",
    "g.add((n4,obo['has specified numeric value'],Literal(p,datatype=XSD.double)))\n",
    "# Finally, serialize and print the graph in RDF/XML format\n",
    "s=g.serialize(format='turtle').decode('utf-8')\n",
    "print(s)"
   ]
  },
  {
   "cell_type": "code",
   "execution_count": 139,
   "metadata": {},
   "outputs": [
    {
     "name": "stdout",
     "output_type": "stream",
     "text": [
      "p-value= 5.318725263490542e-05\n"
     ]
    }
   ],
   "source": [
    "# Process the machine readable statistical hypothesis test by completing the following SPARQL query that returns the p-value\n",
    "\n",
    "q = \"\"\"\n",
    "PREFIX obo: <http://purl.obolibrary.org/obo/>\n",
    "\n",
    "SELECT ?pvalue WHERE {\n",
    "  ?r a obo:STATO_0000304 .\n",
    "  ?r obo:OBI_0000293 [ a obo:GO_0030350 ] .\n",
    "  ?r obo:OBI_0000299 [ a obo:OBI_0000175 ;\n",
    "        obo:OBI_0001938 [ a obo:OBI_0001931 ;\n",
    "                    obo:OBI_0001937 ?pvalue\n",
    "  ]].\n",
    "}\n",
    "\"\"\"\n",
    "for qs in g.query(q):\n",
    "    print('p-value=',qs[0])\n",
    "    \n",
    "    \n",
    "    \n",
    "    "
   ]
  },
  {
   "cell_type": "code",
   "execution_count": null,
   "metadata": {},
   "outputs": [],
   "source": []
  },
  {
   "cell_type": "code",
   "execution_count": null,
   "metadata": {},
   "outputs": [],
   "source": []
  },
  {
   "cell_type": "code",
   "execution_count": null,
   "metadata": {},
   "outputs": [],
   "source": []
  },
  {
   "cell_type": "code",
   "execution_count": null,
   "metadata": {},
   "outputs": [],
   "source": []
  },
  {
   "cell_type": "code",
   "execution_count": null,
   "metadata": {},
   "outputs": [],
   "source": []
  },
  {
   "cell_type": "code",
   "execution_count": null,
   "metadata": {},
   "outputs": [],
   "source": []
  },
  {
   "cell_type": "code",
   "execution_count": null,
   "metadata": {},
   "outputs": [],
   "source": []
  },
  {
   "cell_type": "code",
   "execution_count": null,
   "metadata": {},
   "outputs": [],
   "source": []
  },
  {
   "cell_type": "code",
   "execution_count": null,
   "metadata": {},
   "outputs": [],
   "source": []
  },
  {
   "cell_type": "code",
   "execution_count": null,
   "metadata": {},
   "outputs": [],
   "source": []
  },
  {
   "cell_type": "code",
   "execution_count": null,
   "metadata": {},
   "outputs": [],
   "source": []
  },
  {
   "cell_type": "code",
   "execution_count": null,
   "metadata": {},
   "outputs": [],
   "source": []
  },
  {
   "cell_type": "code",
   "execution_count": null,
   "metadata": {},
   "outputs": [],
   "source": []
  },
  {
   "cell_type": "code",
   "execution_count": null,
   "metadata": {},
   "outputs": [],
   "source": []
  },
  {
   "cell_type": "code",
   "execution_count": null,
   "metadata": {},
   "outputs": [],
   "source": []
  },
  {
   "cell_type": "code",
   "execution_count": null,
   "metadata": {},
   "outputs": [],
   "source": []
  },
  {
   "cell_type": "code",
   "execution_count": null,
   "metadata": {},
   "outputs": [],
   "source": []
  },
  {
   "cell_type": "code",
   "execution_count": null,
   "metadata": {},
   "outputs": [],
   "source": []
  },
  {
   "cell_type": "code",
   "execution_count": null,
   "metadata": {},
   "outputs": [],
   "source": []
  },
  {
   "cell_type": "code",
   "execution_count": null,
   "metadata": {},
   "outputs": [],
   "source": []
  },
  {
   "cell_type": "code",
   "execution_count": null,
   "metadata": {},
   "outputs": [],
   "source": []
  },
  {
   "cell_type": "code",
   "execution_count": null,
   "metadata": {},
   "outputs": [],
   "source": []
  },
  {
   "cell_type": "code",
   "execution_count": null,
   "metadata": {},
   "outputs": [],
   "source": []
  },
  {
   "cell_type": "code",
   "execution_count": null,
   "metadata": {},
   "outputs": [],
   "source": []
  },
  {
   "cell_type": "code",
   "execution_count": null,
   "metadata": {},
   "outputs": [],
   "source": []
  }
 ],
 "metadata": {
  "kernelspec": {
   "display_name": "Python 3",
   "language": "python",
   "name": "python3"
  },
  "language_info": {
   "codemirror_mode": {
    "name": "ipython",
    "version": 3
   },
   "file_extension": ".py",
   "mimetype": "text/x-python",
   "name": "python",
   "nbconvert_exporter": "python",
   "pygments_lexer": "ipython3",
   "version": "3.6.5"
  }
 },
 "nbformat": 4,
 "nbformat_minor": 2
}
